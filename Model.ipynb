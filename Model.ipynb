{
 "cells": [
  {
   "cell_type": "code",
   "execution_count": 1,
   "id": "initial_id",
   "metadata": {
    "collapsed": true,
    "ExecuteTime": {
     "end_time": "2023-10-16T21:33:41.957190500Z",
     "start_time": "2023-10-16T21:33:40.193999500Z"
    }
   },
   "outputs": [],
   "source": [
    "import numpy as np\n",
    "import pandas as pd\n",
    "import matplotlib.pyplot as plt\n",
    "from sklearn.neural_network import MLPClassifier\n",
    "from sklearn.model_selection import train_test_split\n",
    "from sklearn.metrics import accuracy_score\n",
    "from sklearn.preprocessing import LabelEncoder\n",
    "from sklearn.preprocessing import OneHotEncoder\n",
    "from sklearn.model_selection import KFold\n",
    "from sklearn.model_selection import cross_val_score"
   ]
  },
  {
   "cell_type": "markdown",
   "source": [
    "Loading the data"
   ],
   "metadata": {
    "collapsed": false
   },
   "id": "23557539f2060f37"
  },
  {
   "cell_type": "code",
   "execution_count": 2,
   "outputs": [
    {
     "data": {
      "text/plain": "     Year                    Major                University  Time  \\\n0  Year 2                  Physics  Indiana State University    12   \n1  Year 3                Chemistry     Ball State University    14   \n2  Year 3                Chemistry         Butler University    12   \n3  Year 2                  Biology  Indiana State University    11   \n4  Year 3  Business Administration         Butler University    12   \n\n                                               Order  \n0                               Fried Catfish Basket  \n1                                    Sugar Cream Pie  \n2                                 Indiana Pork Chili  \n3                               Fried Catfish Basket  \n4  Indiana Corn on the Cob (brushed with garlic b...  ",
      "text/html": "<div>\n<style scoped>\n    .dataframe tbody tr th:only-of-type {\n        vertical-align: middle;\n    }\n\n    .dataframe tbody tr th {\n        vertical-align: top;\n    }\n\n    .dataframe thead th {\n        text-align: right;\n    }\n</style>\n<table border=\"1\" class=\"dataframe\">\n  <thead>\n    <tr style=\"text-align: right;\">\n      <th></th>\n      <th>Year</th>\n      <th>Major</th>\n      <th>University</th>\n      <th>Time</th>\n      <th>Order</th>\n    </tr>\n  </thead>\n  <tbody>\n    <tr>\n      <th>0</th>\n      <td>Year 2</td>\n      <td>Physics</td>\n      <td>Indiana State University</td>\n      <td>12</td>\n      <td>Fried Catfish Basket</td>\n    </tr>\n    <tr>\n      <th>1</th>\n      <td>Year 3</td>\n      <td>Chemistry</td>\n      <td>Ball State University</td>\n      <td>14</td>\n      <td>Sugar Cream Pie</td>\n    </tr>\n    <tr>\n      <th>2</th>\n      <td>Year 3</td>\n      <td>Chemistry</td>\n      <td>Butler University</td>\n      <td>12</td>\n      <td>Indiana Pork Chili</td>\n    </tr>\n    <tr>\n      <th>3</th>\n      <td>Year 2</td>\n      <td>Biology</td>\n      <td>Indiana State University</td>\n      <td>11</td>\n      <td>Fried Catfish Basket</td>\n    </tr>\n    <tr>\n      <th>4</th>\n      <td>Year 3</td>\n      <td>Business Administration</td>\n      <td>Butler University</td>\n      <td>12</td>\n      <td>Indiana Corn on the Cob (brushed with garlic b...</td>\n    </tr>\n  </tbody>\n</table>\n</div>"
     },
     "execution_count": 2,
     "metadata": {},
     "output_type": "execute_result"
    }
   ],
   "source": [
    "np.random.seed(42)\n",
    "data = pd.read_csv('XTern 2024 Artificial Intelegence Data Set - Xtern_TrainData.csv')\n",
    "data.head()"
   ],
   "metadata": {
    "collapsed": false,
    "ExecuteTime": {
     "end_time": "2023-10-16T21:33:42.091254400Z",
     "start_time": "2023-10-16T21:33:41.961364300Z"
    }
   },
   "id": "e93a613c3e73b248"
  },
  {
   "cell_type": "markdown",
   "source": [
    "Data Exploration"
   ],
   "metadata": {
    "collapsed": false
   },
   "id": "95089e84463dabfb"
  },
  {
   "cell_type": "code",
   "execution_count": 3,
   "outputs": [
    {
     "data": {
      "text/plain": "Year\nYear 3    2719\nYear 2    2273\nYear 1       5\nYear 4       3\nName: count, dtype: int64"
     },
     "execution_count": 3,
     "metadata": {},
     "output_type": "execute_result"
    }
   ],
   "source": [
    "# Counts of each type of data\n",
    "data['Year'].value_counts()"
   ],
   "metadata": {
    "collapsed": false,
    "ExecuteTime": {
     "end_time": "2023-10-16T21:33:42.092190700Z",
     "start_time": "2023-10-16T21:33:42.006193800Z"
    }
   },
   "id": "adcc82d8593bf71d"
  },
  {
   "cell_type": "code",
   "execution_count": 4,
   "outputs": [
    {
     "data": {
      "text/plain": "Major\nChemistry                  640\nBiology                    635\nAstronomy                  619\nPhysics                    610\nMathematics                582\nEconomics                  511\nBusiness Administration    334\nPolitical Science          309\nMarketing                  239\nAnthropology               146\nFinance                    135\nPsychology                  76\nAccounting                  62\nSociology                   31\nInternational Business      29\nMusic                       21\nMechanical Engineering      11\nPhilosophy                   4\nFine Arts                    3\nCivil Engineering            3\nName: count, dtype: int64"
     },
     "execution_count": 4,
     "metadata": {},
     "output_type": "execute_result"
    }
   ],
   "source": [
    "data['Major'].value_counts()"
   ],
   "metadata": {
    "collapsed": false,
    "ExecuteTime": {
     "end_time": "2023-10-16T21:33:42.094190500Z",
     "start_time": "2023-10-16T21:33:42.020191500Z"
    }
   },
   "id": "3fbca17b8b825882"
  },
  {
   "cell_type": "code",
   "execution_count": 5,
   "outputs": [
    {
     "data": {
      "text/plain": "University\nButler University                                            1614\nIndiana State University                                     1309\nBall State University                                        1085\nIndiana University-Purdue University Indianapolis (IUPUI)     682\nUniversity of Notre Dame                                      144\nUniversity of Evansville                                      143\nIndiana University Bloomington                                 12\nValparaiso University                                           9\nPurdue University                                               1\nDePauw University                                               1\nName: count, dtype: int64"
     },
     "execution_count": 5,
     "metadata": {},
     "output_type": "execute_result"
    }
   ],
   "source": [
    "data['University'].value_counts()"
   ],
   "metadata": {
    "collapsed": false,
    "ExecuteTime": {
     "end_time": "2023-10-16T21:33:42.125189400Z",
     "start_time": "2023-10-16T21:33:42.039190400Z"
    }
   },
   "id": "329a967d670bb8d8"
  },
  {
   "cell_type": "code",
   "execution_count": 6,
   "outputs": [
    {
     "data": {
      "text/plain": "Time\n13    1316\n12    1314\n14     883\n11     857\n15     282\n10     247\n16      49\n9       40\n8        8\n17       4\nName: count, dtype: int64"
     },
     "execution_count": 6,
     "metadata": {},
     "output_type": "execute_result"
    }
   ],
   "source": [
    "data['Time'].value_counts()"
   ],
   "metadata": {
    "collapsed": false,
    "ExecuteTime": {
     "end_time": "2023-10-16T21:33:42.227189700Z",
     "start_time": "2023-10-16T21:33:42.052228500Z"
    }
   },
   "id": "7a9cad5116467841"
  },
  {
   "cell_type": "code",
   "execution_count": 7,
   "outputs": [
    {
     "data": {
      "text/plain": "Order\nSugar Cream Pie                                             512\nIndiana Pork Chili                                          510\nCornbread Hush Puppies                                      510\nSweet Potato Fries                                          508\nUltimate Grilled Cheese Sandwich (with bacon and tomato)    503\nIndiana Buffalo Chicken Tacos (3 tacos)                     496\nIndiana Corn on the Cob (brushed with garlic butter)        495\nBreaded Pork Tenderloin Sandwich                            494\nFried Catfish Basket                                        490\nHoosier BBQ Pulled Pork Sandwich                            482\nName: count, dtype: int64"
     },
     "execution_count": 7,
     "metadata": {},
     "output_type": "execute_result"
    }
   ],
   "source": [
    "data['Order'].value_counts()"
   ],
   "metadata": {
    "collapsed": false,
    "ExecuteTime": {
     "end_time": "2023-10-16T21:33:42.228188400Z",
     "start_time": "2023-10-16T21:33:42.068191100Z"
    }
   },
   "id": "96a1a0106c1ca7ad"
  },
  {
   "cell_type": "markdown",
   "source": [
    "The data is mostly balanced in most of the columns. The data in the year column though is very skewed towards those in the middle of their education, so this data may not be representative of all college students using ths app. This data may also be useful for the business to know what demographics, schools, and majors to market the app towards.\n",
    "\n",
    "Seeing that this data is from college students as well, this may be biased towards a class of people that is not as representative of a general population. This may cause our model to potentially not be as accurate towards a general population. However, it might help the business as it can help college students make a decision easier as to what they will purchase with the app. It is also worth noting that we are storing some potentially sensitive information of our users, so it is important that this data is only given access to those who need it."
   ],
   "metadata": {
    "collapsed": false
   },
   "id": "75405c7f3ac3f70d"
  },
  {
   "cell_type": "code",
   "execution_count": 8,
   "outputs": [
    {
     "data": {
      "text/plain": "Year          0\nMajor         0\nUniversity    0\nTime          0\nOrder         0\ndtype: int64"
     },
     "execution_count": 8,
     "metadata": {},
     "output_type": "execute_result"
    }
   ],
   "source": [
    "# Checking for null values\n",
    "data.isnull().sum()"
   ],
   "metadata": {
    "collapsed": false,
    "ExecuteTime": {
     "end_time": "2023-10-16T21:33:42.232340900Z",
     "start_time": "2023-10-16T21:33:42.083191400Z"
    }
   },
   "id": "dd96c6da718569a5"
  },
  {
   "cell_type": "markdown",
   "source": [
    "Data preprocessing"
   ],
   "metadata": {
    "collapsed": false
   },
   "id": "3c684094853603cc"
  },
  {
   "cell_type": "code",
   "execution_count": 9,
   "outputs": [
    {
     "data": {
      "text/plain": "   Year  Major  University  Time  \\\n0     1     12           0     6   \n1     2     11           1     2   \n2     1      3           3     8   \n3     1     17           3     3   \n4     2      8           3     5   \n\n                                               Order  \n0  Ultimate Grilled Cheese Sandwich (with bacon a...  \n1                   Breaded Pork Tenderloin Sandwich  \n2                                 Sweet Potato Fries  \n3                               Fried Catfish Basket  \n4            Indiana Buffalo Chicken Tacos (3 tacos)  ",
      "text/html": "<div>\n<style scoped>\n    .dataframe tbody tr th:only-of-type {\n        vertical-align: middle;\n    }\n\n    .dataframe tbody tr th {\n        vertical-align: top;\n    }\n\n    .dataframe thead th {\n        text-align: right;\n    }\n</style>\n<table border=\"1\" class=\"dataframe\">\n  <thead>\n    <tr style=\"text-align: right;\">\n      <th></th>\n      <th>Year</th>\n      <th>Major</th>\n      <th>University</th>\n      <th>Time</th>\n      <th>Order</th>\n    </tr>\n  </thead>\n  <tbody>\n    <tr>\n      <th>0</th>\n      <td>1</td>\n      <td>12</td>\n      <td>0</td>\n      <td>6</td>\n      <td>Ultimate Grilled Cheese Sandwich (with bacon a...</td>\n    </tr>\n    <tr>\n      <th>1</th>\n      <td>2</td>\n      <td>11</td>\n      <td>1</td>\n      <td>2</td>\n      <td>Breaded Pork Tenderloin Sandwich</td>\n    </tr>\n    <tr>\n      <th>2</th>\n      <td>1</td>\n      <td>3</td>\n      <td>3</td>\n      <td>8</td>\n      <td>Sweet Potato Fries</td>\n    </tr>\n    <tr>\n      <th>3</th>\n      <td>1</td>\n      <td>17</td>\n      <td>3</td>\n      <td>3</td>\n      <td>Fried Catfish Basket</td>\n    </tr>\n    <tr>\n      <th>4</th>\n      <td>2</td>\n      <td>8</td>\n      <td>3</td>\n      <td>5</td>\n      <td>Indiana Buffalo Chicken Tacos (3 tacos)</td>\n    </tr>\n  </tbody>\n</table>\n</div>"
     },
     "execution_count": 9,
     "metadata": {},
     "output_type": "execute_result"
    }
   ],
   "source": [
    "# Shuffling the data\n",
    "data = data.sample(frac=1).reset_index(drop=True)\n",
    "\n",
    "# Encoding the categorical data\n",
    "le = LabelEncoder()\n",
    "data['Year'] = le.fit_transform(data['Year'])\n",
    "data['Major'] = le.fit_transform(data['Major'])\n",
    "data['University'] = le.fit_transform(data['University'])\n",
    "data['Time'] = le.fit_transform(data['Time'])\n",
    "\n",
    "# One hot encoding the order column\n",
    "ohe = OneHotEncoder()\n",
    "order = ohe.fit_transform(data['Order'].values.reshape(-1,1)).toarray()\n",
    "data.head()"
   ],
   "metadata": {
    "collapsed": false,
    "ExecuteTime": {
     "end_time": "2023-10-16T21:33:42.281366800Z",
     "start_time": "2023-10-16T21:33:42.101193800Z"
    }
   },
   "id": "965a821692af365e"
  },
  {
   "cell_type": "markdown",
   "source": [
    "Splitting the data"
   ],
   "metadata": {
    "collapsed": false
   },
   "id": "785bea7a5dacdf97"
  },
  {
   "cell_type": "code",
   "execution_count": 10,
   "outputs": [],
   "source": [
    "X = data.drop(['Order'], axis=1)\n",
    "X = X.values\n",
    "# Normalizing the data\n",
    "X = (X - X.mean()) / X.std()\n",
    "y = order\n",
    "\n",
    "X_train, X_test, y_train, y_test = train_test_split(X, y, test_size=0.2)"
   ],
   "metadata": {
    "collapsed": false,
    "ExecuteTime": {
     "end_time": "2023-10-16T21:33:42.282190200Z",
     "start_time": "2023-10-16T21:33:42.132189600Z"
    }
   },
   "id": "2ff5015583855bd6"
  },
  {
   "cell_type": "markdown",
   "source": [
    "K-Fold Cross Validation"
   ],
   "metadata": {
    "collapsed": false
   },
   "id": "1c25f1c925e68a77"
  },
  {
   "cell_type": "code",
   "execution_count": 11,
   "outputs": [
    {
     "name": "stdout",
     "output_type": "stream",
     "text": [
      "Accuracy:  52.25\n"
     ]
    }
   ],
   "source": [
    "model = MLPClassifier(hidden_layer_sizes=(500, 250, 100), max_iter=1000, activation='relu', solver='adam', random_state=42)\n",
    "kfold = KFold(n_splits=5)\n",
    "results = cross_val_score(model, X_train, y_train, cv=kfold)\n",
    "\n",
    "print(\"Accuracy: \", str(results.mean()*100))"
   ],
   "metadata": {
    "collapsed": false,
    "ExecuteTime": {
     "end_time": "2023-10-16T21:38:15.007207800Z",
     "start_time": "2023-10-16T21:33:42.145190300Z"
    }
   },
   "id": "de01e20c26960767"
  },
  {
   "cell_type": "markdown",
   "source": [
    "Training the model"
   ],
   "metadata": {
    "collapsed": false
   },
   "id": "d9ea82e0c59c678"
  },
  {
   "cell_type": "code",
   "execution_count": 12,
   "outputs": [
    {
     "name": "stdout",
     "output_type": "stream",
     "text": [
      "Training accuracy:  58.025000000000006\n"
     ]
    }
   ],
   "source": [
    "model = MLPClassifier(hidden_layer_sizes=(500, 250, 100), max_iter=1000, activation='relu', solver='adam', random_state=42)\n",
    "model.fit(X_train, y_train)\n",
    "print(\"Training accuracy: \", accuracy_score(y_train, model.predict(X_train)) * 100)"
   ],
   "metadata": {
    "collapsed": false,
    "ExecuteTime": {
     "end_time": "2023-10-16T21:39:11.957634200Z",
     "start_time": "2023-10-16T21:38:15.004207900Z"
    }
   },
   "id": "74c6496aa8a3971e"
  },
  {
   "cell_type": "markdown",
   "source": [
    "Loss curve"
   ],
   "metadata": {
    "collapsed": false
   },
   "id": "8242467a439c8c91"
  },
  {
   "cell_type": "code",
   "execution_count": 13,
   "outputs": [
    {
     "data": {
      "text/plain": "<Figure size 640x480 with 1 Axes>",
      "image/png": "[encoded data removed]"
     },
     "metadata": {},
     "output_type": "display_data"
    }
   ],
   "source": [
    "plt.plot(model.loss_curve_)\n",
    "plt.title('Loss curve')\n",
    "plt.xlabel('Epochs')\n",
    "plt.ylabel('Loss')\n",
    "plt.show()"
   ],
   "metadata": {
    "collapsed": false,
    "ExecuteTime": {
     "end_time": "2023-10-16T21:51:37.302545300Z",
     "start_time": "2023-10-16T21:51:37.047077500Z"
    }
   },
   "id": "b1c9baf73ce387f2"
  },
  {
   "cell_type": "markdown",
   "source": [
    "To see if using this model to predict a food item would be useful, it would be best to test it with users to see if it would be accurate to what they would like at the moment. It would also be useful to potentially add more features to the data to try and increase the accuracy of the model seeing that the accuracy is only at 58% at the current moment. It might also be more useful to use data specific to each user to predict what they would like based on their individual trends as well"
   ],
   "metadata": {
    "collapsed": false
   },
   "id": "d2c7342be8ede054"
  },
  {
   "cell_type": "markdown",
   "source": [
    "Save the model"
   ],
   "metadata": {
    "collapsed": false
   },
   "id": "8a7a5a875e31169f"
  },
  {
   "cell_type": "code",
   "execution_count": 14,
   "outputs": [],
   "source": [
    "import pickle\n",
    "pickle.dump(model, open('model.pkl', 'wb'))"
   ],
   "metadata": {
    "collapsed": false,
    "ExecuteTime": {
     "end_time": "2023-10-16T21:59:36.122814500Z",
     "start_time": "2023-10-16T21:59:36.109813900Z"
    }
   },
   "id": "45667b1bb365f6ce"
  }
 ],
 "metadata": {
  "kernelspec": {
   "display_name": "Python 3",
   "language": "python",
   "name": "python3"
  },
  "language_info": {
   "codemirror_mode": {
    "name": "ipython",
    "version": 2
   },
   "file_extension": ".py",
   "mimetype": "text/x-python",
   "name": "python",
   "nbconvert_exporter": "python",
   "pygments_lexer": "ipython2",
   "version": "2.7.6"
  }
 },
 "nbformat": 4,
 "nbformat_minor": 5
}
